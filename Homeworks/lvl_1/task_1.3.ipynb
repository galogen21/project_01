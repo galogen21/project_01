{
 "cells": [
  {
   "cell_type": "code",
   "execution_count": 49,
   "metadata": {},
   "outputs": [
    {
     "name": "stdout",
     "output_type": "stream",
     "text": [
      "Некорректный ввод!\n"
     ]
    }
   ],
   "source": [
    "# Задача 1.3.\n",
    "\n",
    "# Напишите скрипт, который принимает от пользователя номер месяца, \n",
    "# а возвращает количество дней в нем.\n",
    "# Результат проверки вывести на консоль\n",
    "# Допущение: в феврале 28 дней\n",
    "# Если номер месяца некорректен - сообщить об этом\n",
    "\n",
    "# Например,\n",
    "    # Введите номер месяца: 3\n",
    "    # Вы ввели март. 31 дней\n",
    "\n",
    "    # Введите номер месяца: 2\n",
    "    # Вы ввели февраль. 28 дней\n",
    "\n",
    "    # Введите номер месяца: 15\n",
    "    # Такого месяца нет!\n",
    "\n",
    "month = (input(\"Введите номер месяца\"))\n",
    "month_dict = {1: ('январь. 31 день'),\n",
    "              2: ('февраль. 28 дней'),\n",
    "              3: ('март. 31 день'),\n",
    "              4: ('апрель. 30 дней'),\n",
    "              5: ('май. 31 день'),\n",
    "              6: ('июнь. 30 дней'),\n",
    "              7: ('июль. 31 день'),\n",
    "              8: ('август. 31 день'),\n",
    "              9: ('сентябрь. 30 дней'),\n",
    "              10: ('октябрь. 31 день'),\n",
    "              11: ('ноябрь. 30 дней'),\n",
    "              12: ('декабрь. 31 день'),\n",
    "              }\n",
    "if month == (''):\n",
    "    print('Некорректное значение!')\n",
    "elif month.isdigit() is False:\n",
    "    print('Некорректный ввод!')\n",
    "else:\n",
    "    month = int(month)\n",
    "    if 0 <= month <= 12:\n",
    "        days_num = month_dict[month]\n",
    "        print('Вы ввели', days_num)\n",
    "    else:\n",
    "        print('Такого месяца нет!')\n",
    "\n",
    "\n",
    "\n"
   ]
  },
  {
   "cell_type": "code",
   "execution_count": null,
   "metadata": {},
   "outputs": [],
   "source": []
  }
 ],
 "metadata": {
  "kernelspec": {
   "display_name": "expiliarmus",
   "language": "python",
   "name": "python3"
  },
  "language_info": {
   "codemirror_mode": {
    "name": "ipython",
    "version": 3
   },
   "file_extension": ".py",
   "mimetype": "text/x-python",
   "name": "python",
   "nbconvert_exporter": "python",
   "pygments_lexer": "ipython3",
   "version": "3.11.3"
  },
  "orig_nbformat": 4
 },
 "nbformat": 4,
 "nbformat_minor": 2
}
