{
  "cells": [
    {
      "cell_type": "code",
      "execution_count": 14,
      "metadata": {
        "colab": {
          "base_uri": "https://localhost:8080/"
        },
        "id": "C8Y2ndV6wCsX",
        "outputId": "1b072fc5-e31a-4a5c-99a0-9e2e772af1a9"
      },
      "outputs": [
        {
          "name": "stdout",
          "output_type": "stream",
          "text": [
            "Waste a Moment  New Salvation  Staying' Alive  Start Me Up\n"
          ]
        }
      ],
      "source": [
        "# Задача 1.1.\n",
        "\n",
        "# Есть строка с перечислением песен\n",
        "\n",
        "my_favorite_songs = 'Waste a Moment, Staying\\' Alive, A Sorta Fairytale, Start Me Up, New Salvation'\n",
        "\n",
        "songs_list = my_favorite_songs.split(',')\n",
        "print(songs_list[0],songs_list[-1], songs_list[1],songs_list[-2])\n",
        "\n",
        "# first_song = songs_list[0]\n",
        "# last_song = songs_list[-1]\n",
        "# second_song = songs_list[1]\n",
        "# sec_to_last = songs_list[-2]\n",
        "#print(first_song, last_song, second_song, sec_to_last)\n",
        "\n",
        "\n",
        "# Выведите на консоль с помощью индексации строки, последовательно: первый трек, последний, второй, второй с конца\n",
        "# Нельзя переопределять my_favorite_songs и запятая не должна выводиться."
      ]
    },
    {
      "cell_type": "code",
      "execution_count": 69,
      "metadata": {
        "colab": {
          "base_uri": "https://localhost:8080/"
        },
        "id": "9zNB0mhO3gIl",
        "outputId": "cca8b5c4-2f4e-4a01-c35f-2f0c67859edb"
      },
      "outputs": [
        {
          "name": "stdout",
          "output_type": "stream",
          "text": [
            "Три песни звучат: 12.41 минут\n"
          ]
        }
      ],
      "source": [
        "# Задача 1.2.\n",
        "\n",
        "# Пункт A. первый вариант решения\n",
        "# Приведем плейлист песен в виде списка списков\n",
        "# Список my_favorite_songs содержит список названий и длительности каждого трека\n",
        "# Выведите общее время звучания трех случайных песен в формате\n",
        "# Три песни звучат ХХХ минут\n",
        "\n",
        "import random\n",
        "my_favorite_songs = [\n",
        "    ['Waste a Moment', 3.03],\n",
        "    ['New Salvation', 4.02],\n",
        "    ['Staying\\' Alive', 3.40],\n",
        "    ['Out of Touch', 3.03],\n",
        "    ['A Sorta Fairytale', 5.28],\n",
        "    ['Easy', 4.15],\n",
        "    ['Beautiful Day', 4.04],\n",
        "    ['Nowhere to Run', 2.58],\n",
        "    ['In This World', 4.02],\n",
        "]\n",
        "f_random_song_time = (random.choice(my_favorite_songs)[1])\n",
        "s_random_song_time = (random.choice(my_favorite_songs)[1])\n",
        "th_random_song_time = (random.choice(my_favorite_songs)[1])\n",
        "f_song_sec = (int(f_random_song_time)*60) + round((f_random_song_time*100) % 100)\n",
        "s_song_sec = (int(s_random_song_time)*60) + round((s_random_song_time*100) % 100)\n",
        "th_song_sec = (int(th_random_song_time)*60) + round((th_random_song_time*100) % 100)\n",
        "sum_time = f_song_sec + s_song_sec + th_song_sec\n",
        "sum_time_min = (sum_time // 60) + (round(sum_time % 60))/100\n",
        "print('Три песни звучат:', sum_time_min, 'минут')\n"
      ]
    },
    {
      "cell_type": "code",
      "execution_count": 84,
      "metadata": {
        "colab": {
          "base_uri": "https://localhost:8080/"
        },
        "id": "cPK9OfQLL48d",
        "outputId": "c95a3e71-1491-4c0b-e529-954a9e4e0da2"
      },
      "outputs": [
        {
          "name": "stdout",
          "output_type": "stream",
          "text": [
            "Три песни звучат: 10.08 минут\n"
          ]
        }
      ],
      "source": [
        "#второй вариант решения\n",
        "\n",
        "import random\n",
        "my_favorite_songs = [\n",
        "    ['Waste a Moment', 3.03],\n",
        "    ['New Salvation', 4.02],\n",
        "    ['Staying\\' Alive', 3.40],\n",
        "    ['Out of Touch', 3.03],\n",
        "    ['A Sorta Fairytale', 5.28],\n",
        "    ['Easy', 4.15],\n",
        "    ['Beautiful Day', 4.04],\n",
        "    ['Nowhere to Run', 2.58],\n",
        "    ['In This World', 4.02],\n",
        "]\n",
        "random_songs = random.choices(my_favorite_songs,k=3)\n",
        "sum_min = ((int(random_songs[0][1]) + int(random_songs[1][1]) + int(random_songs[2][1]))*60)\n",
        "sum_sec = (round((random_songs[0][1]*100) % 100)) + (round((random_songs[1][1]*100) % 100))+(round((random_songs[2][1]*100) % 100))\n",
        "sum_time = ((sum_min + sum_sec)// 60) + (round(sum_sec % 60))/100\n",
        "\n",
        "print('Три песни звучат:', sum_time, 'минут')"
      ]
    },
    {
      "cell_type": "code",
      "execution_count": 131,
      "metadata": {
        "colab": {
          "base_uri": "https://localhost:8080/"
        },
        "id": "gGCg2259cSJv",
        "outputId": "48c60f0d-180b-4f16-82f7-54579c43a69b"
      },
      "outputs": [
        {
          "name": "stdout",
          "output_type": "stream",
          "text": [
            "(3.03, 4.02, 3.4, 3.03, 5.28, 4.15, 4.04, 2.58, 4.02)\n",
            "Три песни звучат: 10.45 минут\n"
          ]
        }
      ],
      "source": [
        "# Пункт B. \n",
        "# Есть словарь песен \n",
        "# Распечатайте общее время звучания трех случайных песен\n",
        "# Вывод: Три песни звучат ХХХ минут.\n",
        "import random\n",
        "my_favorite_songs_dict = {\n",
        "    'Waste a Moment': 3.03,\n",
        "    'New Salvation': 4.02,\n",
        "    'Staying\\' Alive': 3.40,\n",
        "    'Out of Touch': 3.03,\n",
        "    'A Sorta Fairytale': 5.28,\n",
        "    'Easy': 4.15,\n",
        "    'Beautiful Day': 4.04,\n",
        "    'Nowhere to Run': 2.58,\n",
        "    'In This World': 4.02,\n",
        "}\n",
        "time_tuple = my_favorite_songs_dict['Waste a Moment'], my_favorite_songs_dict['New Salvation'], my_favorite_songs_dict['Staying\\' Alive'], my_favorite_songs_dict['Out of Touch'], my_favorite_songs_dict['A Sorta Fairytale'], my_favorite_songs_dict['Easy'], my_favorite_songs_dict['Beautiful Day'], my_favorite_songs_dict['Nowhere to Run'], my_favorite_songs_dict['In This World'])\n",
        "time_list = list(time_tuple)\n",
        "random_songs = random.choices(time_list,k=3)\n",
        "sum_min = ((int(time_list[0]) + int(time_list[1]) + int(time_list[2]))*60)\n",
        "sum_sec = (round((time_list[0]*100) % 100)) + (round((time_list[1]*100) % 100))+(round((time_list[2]*100) % 100))\n",
        "sum_time = ((sum_min + sum_sec)// 60) + (round(sum_sec % 60))/100\n",
        "\n",
        "print('Три песни звучат:', sum_time, 'минут')"
      ]
    },
    {
      "cell_type": "code",
      "execution_count": 3,
      "metadata": {},
      "outputs": [
        {
          "name": "stdout",
          "output_type": "stream",
          "text": [
            "00:03:03\n",
            "00:04:02\n",
            "00:03:04\n",
            "00:03:03\n",
            "00:05:28\n",
            "00:04:15\n",
            "00:04:04\n",
            "00:02:58\n",
            "00:04:02\n"
          ]
        }
      ],
      "source": [
        "# Дополнительно \n",
        "# Пункт D.\n",
        "# Переведите минуты и секунды в формат времени. Используйте модуль datetime\n",
        "\n",
        "import datetime\n",
        "from datetime import datetime, date, time\n",
        "my_favorite_songs = [\n",
        "    ['Waste a Moment', 3.03],\n",
        "    ['New Salvation', 4.02],\n",
        "    ['Staying\\' Alive', 3.40],\n",
        "    ['Out of Touch', 3.03],\n",
        "    ['A Sorta Fairytale', 5.28],\n",
        "    ['Easy', 4.15],\n",
        "    ['Beautiful Day', 4.04],\n",
        "    ['Nowhere to Run', 2.58],\n",
        "    ['In This World', 4.02],\n",
        "]\n",
        "for i in my_favorite_songs:\n",
        "    time_str = str(i[1])\n",
        "    datetime_song = datetime.strptime(time_str, \"%M.%S\")\n",
        "    time_song = datetime.time(datetime_song)\n",
        "    print(time_song)"
      ]
    },
    {
      "cell_type": "code",
      "execution_count": 43,
      "metadata": {},
      "outputs": [
        {
          "name": "stdout",
          "output_type": "stream",
          "text": [
            "[['A Sorta Fairytale', 5.28], [\"Staying' Alive\", 3.4], ['In This World', 4.02], ['Waste a Moment', 3.03], ['Out of Touch', 3.03], ['Easy', 4.15], ['Nowhere to Run', 2.58], ['New Salvation', 4.02], ['Beautiful Day', 4.04]]\n"
          ]
        }
      ],
      "source": [
        "# Пункт C.\n",
        "# Сгенерируйте случайные песни с помощью модуля random\n",
        "# import random\n",
        "\n",
        "\n",
        "import random\n",
        "\n",
        "# Список\n",
        "random.shuffle(my_favorite_songs)\n",
        "print(my_favorite_songs)\n",
        "\n",
        "# Словарь\n",
        "# dict_playlist_m = list(my_favorite_songs_dict.items())\n",
        "# random.shuffle(dict_playlist_m)\n",
        "# print(dict_playlist_m)"
      ]
    }
  ],
  "metadata": {
    "colab": {
      "provenance": [],
      "toc_visible": true
    },
    "kernelspec": {
      "display_name": "Python 3",
      "name": "python3"
    },
    "language_info": {
      "codemirror_mode": {
        "name": "ipython",
        "version": 3
      },
      "file_extension": ".py",
      "mimetype": "text/x-python",
      "name": "python",
      "nbconvert_exporter": "python",
      "pygments_lexer": "ipython3",
      "version": "3.11.3"
    }
  },
  "nbformat": 4,
  "nbformat_minor": 0
}
